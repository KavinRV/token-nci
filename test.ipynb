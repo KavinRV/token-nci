{
 "cells": [
  {
   "cell_type": "code",
   "execution_count": 1,
   "metadata": {},
   "outputs": [],
   "source": [
    "import pandas as pd\n",
    "\n",
    "train_filename = \"Data_process/NQ_dataset/NQ_512_qg.tsv\"\n",
    "train_filename_2 = \"Data_process/NQ_dataset/NQ_doc_aug.tsv\"\n",
    "train_filename_3 = \"Data_process/NQ_dataset/nq_train_doc_newid.tsv\"\n",
    "train_filename_4 = \"Data_process/NQ_dataset/nq_title_abs.tsv\"\n",
    "\n",
    "df = pd.read_csv(\n",
    "                train_filename,\n",
    "                names=[\"query\", \"queryid\", \"oldid\", \"bert_k30_c30_1\"],\n",
    "                encoding='utf-8', header=None, sep='\\t',\n",
    "                # dtype={'query': str, 'queryid': str, 'oldid': str, args.id_class: str}\n",
    "                )\n",
    "df2 = pd.read_csv(\n",
    "                train_filename_2,\n",
    "                names=[\"query\", \"queryid\", \"oldid\", \"bert_k30_c30_1\"],\n",
    "                encoding='utf-8', header=None, sep='\\t',\n",
    "                # dtype={'query': str, 'queryid': str, 'oldid': str, args.id_class: str}\n",
    "                )\n",
    "df3 = pd.read_csv(\n",
    "                train_filename_3,\n",
    "                names=[\"query\", \"queryid\", \"oldid\", \"bert_k30_c30_1\"],\n",
    "                encoding='utf-8', header=None, sep='\\t',\n",
    "                # dtype={'query': str, 'queryid': str, 'oldid': str, args.id_class: str}\n",
    "                )\n",
    "df4 = pd.read_csv(\n",
    "                train_filename_4,\n",
    "                names=[\"query\", \"queryid\", \"oldid\", \"bert_k30_c30_1\"],\n",
    "                encoding='utf-8', header=None, sep='\\t',\n",
    "                # dtype={'query': str, 'queryid': str, 'old\n",
    "                # id': str, args.id_class: str}\n",
    "                )\n",
    "\n",
    "df = pd.concat([df, df2, df3, df4], ignore_index=True)"
   ]
  },
  {
   "cell_type": "code",
   "execution_count": 9,
   "metadata": {},
   "outputs": [],
   "source": [
    "df5 = df4.drop_duplicates(subset=['query', \"oldid\"], keep='first')"
   ]
  },
  {
   "cell_type": "code",
   "execution_count": 3,
   "metadata": {},
   "outputs": [
    {
     "name": "stdout",
     "output_type": "stream",
     "text": [
      "num unique bert_k30_c30_1:  109739\n"
     ]
    }
   ],
   "source": [
    "# num unique bert_k30_c30_1\n",
    "\n",
    "print(\"num unique bert_k30_c30_1: \", len(df['bert_k30_c30_1'].unique()))"
   ]
  },
  {
   "cell_type": "code",
   "execution_count": 11,
   "metadata": {},
   "outputs": [
    {
     "data": {
      "text/plain": [
       "query             75\n",
       "queryid            0\n",
       "oldid              0\n",
       "bert_k30_c30_1     0\n",
       "dtype: int64"
      ]
     },
     "execution_count": 11,
     "metadata": {},
     "output_type": "execute_result"
    }
   ],
   "source": [
    "df4.isnull().sum()"
   ]
  },
  {
   "cell_type": "code",
   "execution_count": 15,
   "metadata": {},
   "outputs": [
    {
     "data": {
      "text/html": [
       "<div>\n",
       "<style scoped>\n",
       "    .dataframe tbody tr th:only-of-type {\n",
       "        vertical-align: middle;\n",
       "    }\n",
       "\n",
       "    .dataframe tbody tr th {\n",
       "        vertical-align: top;\n",
       "    }\n",
       "\n",
       "    .dataframe thead th {\n",
       "        text-align: right;\n",
       "    }\n",
       "</style>\n",
       "<table border=\"1\" class=\"dataframe\">\n",
       "  <thead>\n",
       "    <tr style=\"text-align: right;\">\n",
       "      <th></th>\n",
       "      <th>query</th>\n",
       "      <th>queryid</th>\n",
       "      <th>oldid</th>\n",
       "      <th>bert_k30_c30_1</th>\n",
       "    </tr>\n",
       "  </thead>\n",
       "  <tbody>\n",
       "    <tr>\n",
       "      <th>0</th>\n",
       "      <td>internet email marketing definition</td>\n",
       "      <td>5655493461695504401</td>\n",
       "      <td>0</td>\n",
       "      <td>3-14-2-0</td>\n",
       "    </tr>\n",
       "    <tr>\n",
       "      <th>1</th>\n",
       "      <td>what is email marketing</td>\n",
       "      <td>5655493461695504401</td>\n",
       "      <td>0</td>\n",
       "      <td>3-14-2-0</td>\n",
       "    </tr>\n",
       "    <tr>\n",
       "      <th>2</th>\n",
       "      <td>what is meant by em marketing</td>\n",
       "      <td>5655493461695504401</td>\n",
       "      <td>0</td>\n",
       "      <td>3-14-2-0</td>\n",
       "    </tr>\n",
       "    <tr>\n",
       "      <th>3</th>\n",
       "      <td>what is the purpose of email marketing?</td>\n",
       "      <td>5655493461695504401</td>\n",
       "      <td>0</td>\n",
       "      <td>3-14-2-0</td>\n",
       "    </tr>\n",
       "    <tr>\n",
       "      <th>4</th>\n",
       "      <td>what is email marketing?</td>\n",
       "      <td>5655493461695504401</td>\n",
       "      <td>0</td>\n",
       "      <td>3-14-2-0</td>\n",
       "    </tr>\n",
       "    <tr>\n",
       "      <th>...</th>\n",
       "      <td>...</td>\n",
       "      <td>...</td>\n",
       "      <td>...</td>\n",
       "      <td>...</td>\n",
       "    </tr>\n",
       "    <tr>\n",
       "      <th>3437241</th>\n",
       "      <td>natasha, pierre &amp; the great comet of 1812  Nat...</td>\n",
       "      <td>8391452533341141122</td>\n",
       "      <td>28339</td>\n",
       "      <td>16-14-7-2</td>\n",
       "    </tr>\n",
       "    <tr>\n",
       "      <th>3437242</th>\n",
       "      <td>sarbanes – oxley act  The Sarbanes -- Oxley Ac...</td>\n",
       "      <td>-1834169292338717359</td>\n",
       "      <td>109738</td>\n",
       "      <td>6-26-1-16</td>\n",
       "    </tr>\n",
       "    <tr>\n",
       "      <th>3437243</th>\n",
       "      <td>divergence</td>\n",
       "      <td>3633447138060018130</td>\n",
       "      <td>43021</td>\n",
       "      <td>23-18-11-4</td>\n",
       "    </tr>\n",
       "    <tr>\n",
       "      <th>3437244</th>\n",
       "      <td>cardiac output  Cardiac output ( CO , also den...</td>\n",
       "      <td>8453789254281810891</td>\n",
       "      <td>36157</td>\n",
       "      <td>23-1-14-1</td>\n",
       "    </tr>\n",
       "    <tr>\n",
       "      <th>3437245</th>\n",
       "      <td>smoke gets in your eyes  `` Smoke Gets in Your...</td>\n",
       "      <td>1747539378277902434</td>\n",
       "      <td>54901</td>\n",
       "      <td>14-22-26-8</td>\n",
       "    </tr>\n",
       "  </tbody>\n",
       "</table>\n",
       "<p>3437246 rows × 4 columns</p>\n",
       "</div>"
      ],
      "text/plain": [
       "                                                     query  \\\n",
       "0                      internet email marketing definition   \n",
       "1                                  what is email marketing   \n",
       "2                            what is meant by em marketing   \n",
       "3                  what is the purpose of email marketing?   \n",
       "4                                 what is email marketing?   \n",
       "...                                                    ...   \n",
       "3437241  natasha, pierre & the great comet of 1812  Nat...   \n",
       "3437242  sarbanes – oxley act  The Sarbanes -- Oxley Ac...   \n",
       "3437243                                       divergence     \n",
       "3437244  cardiac output  Cardiac output ( CO , also den...   \n",
       "3437245  smoke gets in your eyes  `` Smoke Gets in Your...   \n",
       "\n",
       "                     queryid   oldid bert_k30_c30_1  \n",
       "0        5655493461695504401       0       3-14-2-0  \n",
       "1        5655493461695504401       0       3-14-2-0  \n",
       "2        5655493461695504401       0       3-14-2-0  \n",
       "3        5655493461695504401       0       3-14-2-0  \n",
       "4        5655493461695504401       0       3-14-2-0  \n",
       "...                      ...     ...            ...  \n",
       "3437241  8391452533341141122   28339      16-14-7-2  \n",
       "3437242 -1834169292338717359  109738      6-26-1-16  \n",
       "3437243  3633447138060018130   43021     23-18-11-4  \n",
       "3437244  8453789254281810891   36157      23-1-14-1  \n",
       "3437245  1747539378277902434   54901     14-22-26-8  \n",
       "\n",
       "[3437246 rows x 4 columns]"
      ]
     },
     "execution_count": 15,
     "metadata": {},
     "output_type": "execute_result"
    }
   ],
   "source": [
    "df"
   ]
  },
  {
   "cell_type": "code",
   "execution_count": 18,
   "metadata": {},
   "outputs": [
    {
     "data": {
      "text/html": [
       "<div>\n",
       "<style scoped>\n",
       "    .dataframe tbody tr th:only-of-type {\n",
       "        vertical-align: middle;\n",
       "    }\n",
       "\n",
       "    .dataframe tbody tr th {\n",
       "        vertical-align: top;\n",
       "    }\n",
       "\n",
       "    .dataframe thead th {\n",
       "        text-align: right;\n",
       "    }\n",
       "</style>\n",
       "<table border=\"1\" class=\"dataframe\">\n",
       "  <thead>\n",
       "    <tr style=\"text-align: right;\">\n",
       "      <th></th>\n",
       "      <th>query</th>\n",
       "      <th>queryid</th>\n",
       "      <th>oldid</th>\n",
       "      <th>bert_k30_c30_1</th>\n",
       "    </tr>\n",
       "  </thead>\n",
       "  <tbody>\n",
       "    <tr>\n",
       "      <th>0</th>\n",
       "      <td>email marketing  Email marketing is the act of...</td>\n",
       "      <td>5655493461695504401</td>\n",
       "      <td>0</td>\n",
       "      <td>3-14-2-0</td>\n",
       "    </tr>\n",
       "    <tr>\n",
       "      <th>1</th>\n",
       "      <td>the mother ( how i met your mother )  Tracy Mc...</td>\n",
       "      <td>5328212470870865242</td>\n",
       "      <td>1</td>\n",
       "      <td>16-5-29-0</td>\n",
       "    </tr>\n",
       "    <tr>\n",
       "      <th>2</th>\n",
       "      <td>human fertilization  Human fertilization is th...</td>\n",
       "      <td>4435104480114867852</td>\n",
       "      <td>2</td>\n",
       "      <td>13-18-4</td>\n",
       "    </tr>\n",
       "    <tr>\n",
       "      <th>3</th>\n",
       "      <td>list of national football league career quarte...</td>\n",
       "      <td>5289242154789678439</td>\n",
       "      <td>3</td>\n",
       "      <td>5-9-0-0</td>\n",
       "    </tr>\n",
       "    <tr>\n",
       "      <th>4</th>\n",
       "      <td>roanoke colony  The Roanoke Colony ( / ˈroʊəˌn...</td>\n",
       "      <td>5489863933082811018</td>\n",
       "      <td>4</td>\n",
       "      <td>4-22-1-0</td>\n",
       "    </tr>\n",
       "    <tr>\n",
       "      <th>...</th>\n",
       "      <td>...</td>\n",
       "      <td>...</td>\n",
       "      <td>...</td>\n",
       "      <td>...</td>\n",
       "    </tr>\n",
       "    <tr>\n",
       "      <th>315193</th>\n",
       "      <td>chrysler 300c  The Chrysler Corporation has us...</td>\n",
       "      <td>-2175263027345747679</td>\n",
       "      <td>109736</td>\n",
       "      <td>15-7-7-16</td>\n",
       "    </tr>\n",
       "    <tr>\n",
       "      <th>315197</th>\n",
       "      <td>i see the want to in your eyes  `` I See the W...</td>\n",
       "      <td>-2139967489308892220</td>\n",
       "      <td>109737</td>\n",
       "      <td>14-20-25-2</td>\n",
       "    </tr>\n",
       "    <tr>\n",
       "      <th>315199</th>\n",
       "      <td>sarbanes – oxley act  The Sarbanes -- Oxley Ac...</td>\n",
       "      <td>-1834169292338717359</td>\n",
       "      <td>109738</td>\n",
       "      <td>6-26-1-16</td>\n",
       "    </tr>\n",
       "    <tr>\n",
       "      <th>315200</th>\n",
       "      <td>divergence</td>\n",
       "      <td>3633447138060018130</td>\n",
       "      <td>43021</td>\n",
       "      <td>23-18-11-4</td>\n",
       "    </tr>\n",
       "    <tr>\n",
       "      <th>315201</th>\n",
       "      <td>cardiac output  Cardiac output ( CO , also den...</td>\n",
       "      <td>8453789254281810891</td>\n",
       "      <td>36157</td>\n",
       "      <td>23-1-14-1</td>\n",
       "    </tr>\n",
       "  </tbody>\n",
       "</table>\n",
       "<p>146002 rows × 4 columns</p>\n",
       "</div>"
      ],
      "text/plain": [
       "                                                    query  \\\n",
       "0       email marketing  Email marketing is the act of...   \n",
       "1       the mother ( how i met your mother )  Tracy Mc...   \n",
       "2       human fertilization  Human fertilization is th...   \n",
       "3       list of national football league career quarte...   \n",
       "4       roanoke colony  The Roanoke Colony ( / ˈroʊəˌn...   \n",
       "...                                                   ...   \n",
       "315193  chrysler 300c  The Chrysler Corporation has us...   \n",
       "315197  i see the want to in your eyes  `` I See the W...   \n",
       "315199  sarbanes – oxley act  The Sarbanes -- Oxley Ac...   \n",
       "315200                                       divergence     \n",
       "315201  cardiac output  Cardiac output ( CO , also den...   \n",
       "\n",
       "                    queryid   oldid bert_k30_c30_1  \n",
       "0       5655493461695504401       0       3-14-2-0  \n",
       "1       5328212470870865242       1      16-5-29-0  \n",
       "2       4435104480114867852       2        13-18-4  \n",
       "3       5289242154789678439       3        5-9-0-0  \n",
       "4       5489863933082811018       4       4-22-1-0  \n",
       "...                     ...     ...            ...  \n",
       "315193 -2175263027345747679  109736      15-7-7-16  \n",
       "315197 -2139967489308892220  109737     14-20-25-2  \n",
       "315199 -1834169292338717359  109738      6-26-1-16  \n",
       "315200  3633447138060018130   43021     23-18-11-4  \n",
       "315201  8453789254281810891   36157      23-1-14-1  \n",
       "\n",
       "[146002 rows x 4 columns]"
      ]
     },
     "execution_count": 18,
     "metadata": {},
     "output_type": "execute_result"
    }
   ],
   "source": [
    "df5"
   ]
  },
  {
   "cell_type": "code",
   "execution_count": 4,
   "metadata": {},
   "outputs": [
    {
     "data": {
      "text/plain": [
       "query             145951\n",
       "queryid           315203\n",
       "oldid             109739\n",
       "bert_k30_c30_1    109739\n",
       "dtype: int64"
      ]
     },
     "execution_count": 4,
     "metadata": {},
     "output_type": "execute_result"
    }
   ],
   "source": [
    "df4.nunique()"
   ]
  },
  {
   "cell_type": "code",
   "execution_count": 2,
   "metadata": {},
   "outputs": [
    {
     "data": {
      "text/html": [
       "<div>\n",
       "<style scoped>\n",
       "    .dataframe tbody tr th:only-of-type {\n",
       "        vertical-align: middle;\n",
       "    }\n",
       "\n",
       "    .dataframe tbody tr th {\n",
       "        vertical-align: top;\n",
       "    }\n",
       "\n",
       "    .dataframe thead th {\n",
       "        text-align: right;\n",
       "    }\n",
       "</style>\n",
       "<table border=\"1\" class=\"dataframe\">\n",
       "  <thead>\n",
       "    <tr style=\"text-align: right;\">\n",
       "      <th></th>\n",
       "      <th>query</th>\n",
       "      <th>queryid</th>\n",
       "      <th>oldid</th>\n",
       "      <th>bert_k30_c30_1</th>\n",
       "    </tr>\n",
       "  </thead>\n",
       "  <tbody>\n",
       "    <tr>\n",
       "      <th>0</th>\n",
       "      <td>internet email marketing definition</td>\n",
       "      <td>5655493461695504401</td>\n",
       "      <td>0</td>\n",
       "      <td>3-14-2-0</td>\n",
       "    </tr>\n",
       "    <tr>\n",
       "      <th>1</th>\n",
       "      <td>what is email marketing</td>\n",
       "      <td>5655493461695504401</td>\n",
       "      <td>0</td>\n",
       "      <td>3-14-2-0</td>\n",
       "    </tr>\n",
       "    <tr>\n",
       "      <th>2</th>\n",
       "      <td>what is meant by em marketing</td>\n",
       "      <td>5655493461695504401</td>\n",
       "      <td>0</td>\n",
       "      <td>3-14-2-0</td>\n",
       "    </tr>\n",
       "    <tr>\n",
       "      <th>3</th>\n",
       "      <td>what is the purpose of email marketing?</td>\n",
       "      <td>5655493461695504401</td>\n",
       "      <td>0</td>\n",
       "      <td>3-14-2-0</td>\n",
       "    </tr>\n",
       "    <tr>\n",
       "      <th>4</th>\n",
       "      <td>what is email marketing?</td>\n",
       "      <td>5655493461695504401</td>\n",
       "      <td>0</td>\n",
       "      <td>3-14-2-0</td>\n",
       "    </tr>\n",
       "    <tr>\n",
       "      <th>...</th>\n",
       "      <td>...</td>\n",
       "      <td>...</td>\n",
       "      <td>...</td>\n",
       "      <td>...</td>\n",
       "    </tr>\n",
       "    <tr>\n",
       "      <th>3437241</th>\n",
       "      <td>natasha, pierre &amp; the great comet of 1812  Nat...</td>\n",
       "      <td>8391452533341141122</td>\n",
       "      <td>28339</td>\n",
       "      <td>16-14-7-2</td>\n",
       "    </tr>\n",
       "    <tr>\n",
       "      <th>3437242</th>\n",
       "      <td>sarbanes – oxley act  The Sarbanes -- Oxley Ac...</td>\n",
       "      <td>-1834169292338717359</td>\n",
       "      <td>109738</td>\n",
       "      <td>6-26-1-16</td>\n",
       "    </tr>\n",
       "    <tr>\n",
       "      <th>3437243</th>\n",
       "      <td>divergence</td>\n",
       "      <td>3633447138060018130</td>\n",
       "      <td>43021</td>\n",
       "      <td>23-18-11-4</td>\n",
       "    </tr>\n",
       "    <tr>\n",
       "      <th>3437244</th>\n",
       "      <td>cardiac output  Cardiac output ( CO , also den...</td>\n",
       "      <td>8453789254281810891</td>\n",
       "      <td>36157</td>\n",
       "      <td>23-1-14-1</td>\n",
       "    </tr>\n",
       "    <tr>\n",
       "      <th>3437245</th>\n",
       "      <td>smoke gets in your eyes  `` Smoke Gets in Your...</td>\n",
       "      <td>1747539378277902434</td>\n",
       "      <td>54901</td>\n",
       "      <td>14-22-26-8</td>\n",
       "    </tr>\n",
       "  </tbody>\n",
       "</table>\n",
       "<p>3437246 rows × 4 columns</p>\n",
       "</div>"
      ],
      "text/plain": [
       "                                                     query  \\\n",
       "0                      internet email marketing definition   \n",
       "1                                  what is email marketing   \n",
       "2                            what is meant by em marketing   \n",
       "3                  what is the purpose of email marketing?   \n",
       "4                                 what is email marketing?   \n",
       "...                                                    ...   \n",
       "3437241  natasha, pierre & the great comet of 1812  Nat...   \n",
       "3437242  sarbanes – oxley act  The Sarbanes -- Oxley Ac...   \n",
       "3437243                                       divergence     \n",
       "3437244  cardiac output  Cardiac output ( CO , also den...   \n",
       "3437245  smoke gets in your eyes  `` Smoke Gets in Your...   \n",
       "\n",
       "                     queryid   oldid bert_k30_c30_1  \n",
       "0        5655493461695504401       0       3-14-2-0  \n",
       "1        5655493461695504401       0       3-14-2-0  \n",
       "2        5655493461695504401       0       3-14-2-0  \n",
       "3        5655493461695504401       0       3-14-2-0  \n",
       "4        5655493461695504401       0       3-14-2-0  \n",
       "...                      ...     ...            ...  \n",
       "3437241  8391452533341141122   28339      16-14-7-2  \n",
       "3437242 -1834169292338717359  109738      6-26-1-16  \n",
       "3437243  3633447138060018130   43021     23-18-11-4  \n",
       "3437244  8453789254281810891   36157      23-1-14-1  \n",
       "3437245  1747539378277902434   54901     14-22-26-8  \n",
       "\n",
       "[3437246 rows x 4 columns]"
      ]
     },
     "execution_count": 2,
     "metadata": {},
     "output_type": "execute_result"
    }
   ],
   "source": [
    "df"
   ]
  },
  {
   "cell_type": "code",
   "execution_count": 10,
   "metadata": {},
   "outputs": [],
   "source": [
    "val_filename = \"Data_process/NQ_dataset/nq_dev_doc_newid.tsv\"\n",
    "\n",
    "df_val = pd.read_csv(\n",
    "                val_filename,\n",
    "                names=[\"query\", \"queryid\", \"oldid\", \"bert_k30_c30_1\"],\n",
    "                encoding='utf-8', header=None, sep='\\t',\n",
    "                # dtype={'query': str, 'queryid': str, 'old\n",
    "                # id': str, args.id_class: str}\n",
    "                )"
   ]
  },
  {
   "cell_type": "code",
   "execution_count": 15,
   "metadata": {},
   "outputs": [],
   "source": [
    "from transformers import T5Tokenizer\n",
    "\n",
    "tokenizer = T5Tokenizer.from_pretrained('t5-base')\n",
    "\n",
    "def tokenize_map_fn(text):\n",
    "    return tokenizer(text)[\"input_ids\"]"
   ]
  },
  {
   "cell_type": "code",
   "execution_count": 16,
   "metadata": {},
   "outputs": [],
   "source": [
    "df_val[\"tkn\"] = df_val[\"query\"].map(tokenize_map_fn)"
   ]
  },
  {
   "cell_type": "code",
   "execution_count": 17,
   "metadata": {},
   "outputs": [],
   "source": [
    "tkn_lst = df_val[\"tkn\"].tolist()"
   ]
  },
  {
   "cell_type": "code",
   "execution_count": 19,
   "metadata": {},
   "outputs": [],
   "source": [
    "ln_lst = [len(i) for i in tkn_lst]"
   ]
  },
  {
   "cell_type": "code",
   "execution_count": 20,
   "metadata": {},
   "outputs": [
    {
     "data": {
      "text/plain": [
       "(33, 8, 13.065134099616857)"
      ]
     },
     "execution_count": 20,
     "metadata": {},
     "output_type": "execute_result"
    }
   ],
   "source": [
    "max(ln_lst), min(ln_lst), sum(ln_lst)/len(ln_lst)"
   ]
  },
  {
   "cell_type": "code",
   "execution_count": 36,
   "metadata": {},
   "outputs": [
    {
     "data": {
      "text/plain": [
       "0.007407407407407408"
      ]
     },
     "execution_count": 36,
     "metadata": {},
     "output_type": "execute_result"
    }
   ],
   "source": [
    "cnt = 0\n",
    "for i in ln_lst:\n",
    "    if i > 24:\n",
    "        cnt += 1\n",
    "\n",
    "cnt/len(ln_lst)"
   ]
  },
  {
   "cell_type": "code",
   "execution_count": 35,
   "metadata": {},
   "outputs": [
    {
     "name": "stdout",
     "output_type": "stream",
     "text": [
      "query             6\n",
      "queryid           0\n",
      "oldid             0\n",
      "bert_k30_c30_1    0\n",
      "dtype: int64\n"
     ]
    }
   ],
   "source": [
    "# check for nan\n",
    "print(df.isnull().sum())"
   ]
  },
  {
   "cell_type": "code",
   "execution_count": 36,
   "metadata": {},
   "outputs": [
    {
     "data": {
      "text/html": [
       "<div>\n",
       "<style scoped>\n",
       "    .dataframe tbody tr th:only-of-type {\n",
       "        vertical-align: middle;\n",
       "    }\n",
       "\n",
       "    .dataframe tbody tr th {\n",
       "        vertical-align: top;\n",
       "    }\n",
       "\n",
       "    .dataframe thead th {\n",
       "        text-align: right;\n",
       "    }\n",
       "</style>\n",
       "<table border=\"1\" class=\"dataframe\">\n",
       "  <thead>\n",
       "    <tr style=\"text-align: right;\">\n",
       "      <th></th>\n",
       "      <th>query</th>\n",
       "      <th>queryid</th>\n",
       "      <th>oldid</th>\n",
       "      <th>bert_k30_c30_1</th>\n",
       "    </tr>\n",
       "  </thead>\n",
       "  <tbody>\n",
       "    <tr>\n",
       "      <th>0</th>\n",
       "      <td>internet email marketing definition</td>\n",
       "      <td>5655493461695504401</td>\n",
       "      <td>0</td>\n",
       "      <td>3-14-2-0</td>\n",
       "    </tr>\n",
       "    <tr>\n",
       "      <th>1</th>\n",
       "      <td>what is email marketing</td>\n",
       "      <td>5655493461695504401</td>\n",
       "      <td>0</td>\n",
       "      <td>3-14-2-0</td>\n",
       "    </tr>\n",
       "    <tr>\n",
       "      <th>2</th>\n",
       "      <td>what is meant by em marketing</td>\n",
       "      <td>5655493461695504401</td>\n",
       "      <td>0</td>\n",
       "      <td>3-14-2-0</td>\n",
       "    </tr>\n",
       "    <tr>\n",
       "      <th>3</th>\n",
       "      <td>what is the purpose of email marketing?</td>\n",
       "      <td>5655493461695504401</td>\n",
       "      <td>0</td>\n",
       "      <td>3-14-2-0</td>\n",
       "    </tr>\n",
       "    <tr>\n",
       "      <th>4</th>\n",
       "      <td>what is email marketing?</td>\n",
       "      <td>5655493461695504401</td>\n",
       "      <td>0</td>\n",
       "      <td>3-14-2-0</td>\n",
       "    </tr>\n",
       "    <tr>\n",
       "      <th>...</th>\n",
       "      <td>...</td>\n",
       "      <td>...</td>\n",
       "      <td>...</td>\n",
       "      <td>...</td>\n",
       "    </tr>\n",
       "    <tr>\n",
       "      <th>3122038</th>\n",
       "      <td>who have been the hosts of the price is right</td>\n",
       "      <td>-1413521544318030897</td>\n",
       "      <td>73064</td>\n",
       "      <td>24-22-4-3</td>\n",
       "    </tr>\n",
       "    <tr>\n",
       "      <th>3122039</th>\n",
       "      <td>who sang the song mama told me not to come</td>\n",
       "      <td>3779316254369130993</td>\n",
       "      <td>32552</td>\n",
       "      <td>14-28-10-3</td>\n",
       "    </tr>\n",
       "    <tr>\n",
       "      <th>3122040</th>\n",
       "      <td>who plays grey worm on game of thrones</td>\n",
       "      <td>6455931563852330492</td>\n",
       "      <td>99611</td>\n",
       "      <td>20-8-6-11</td>\n",
       "    </tr>\n",
       "    <tr>\n",
       "      <th>3122041</th>\n",
       "      <td>working principle of high pressure sodium vapo...</td>\n",
       "      <td>-7982911662792302578</td>\n",
       "      <td>37159</td>\n",
       "      <td>29-18-6-0</td>\n",
       "    </tr>\n",
       "    <tr>\n",
       "      <th>3122042</th>\n",
       "      <td>what is the latest red hat linux version</td>\n",
       "      <td>-6253518446509823267</td>\n",
       "      <td>108025</td>\n",
       "      <td>6-28-12-5</td>\n",
       "    </tr>\n",
       "  </tbody>\n",
       "</table>\n",
       "<p>3122043 rows × 4 columns</p>\n",
       "</div>"
      ],
      "text/plain": [
       "                                                     query  \\\n",
       "0                      internet email marketing definition   \n",
       "1                                  what is email marketing   \n",
       "2                            what is meant by em marketing   \n",
       "3                  what is the purpose of email marketing?   \n",
       "4                                 what is email marketing?   \n",
       "...                                                    ...   \n",
       "3122038      who have been the hosts of the price is right   \n",
       "3122039         who sang the song mama told me not to come   \n",
       "3122040             who plays grey worm on game of thrones   \n",
       "3122041  working principle of high pressure sodium vapo...   \n",
       "3122042           what is the latest red hat linux version   \n",
       "\n",
       "                     queryid   oldid bert_k30_c30_1  \n",
       "0        5655493461695504401       0       3-14-2-0  \n",
       "1        5655493461695504401       0       3-14-2-0  \n",
       "2        5655493461695504401       0       3-14-2-0  \n",
       "3        5655493461695504401       0       3-14-2-0  \n",
       "4        5655493461695504401       0       3-14-2-0  \n",
       "...                      ...     ...            ...  \n",
       "3122038 -1413521544318030897   73064      24-22-4-3  \n",
       "3122039  3779316254369130993   32552     14-28-10-3  \n",
       "3122040  6455931563852330492   99611      20-8-6-11  \n",
       "3122041 -7982911662792302578   37159      29-18-6-0  \n",
       "3122042 -6253518446509823267  108025      6-28-12-5  \n",
       "\n",
       "[3122043 rows x 4 columns]"
      ]
     },
     "execution_count": 36,
     "metadata": {},
     "output_type": "execute_result"
    }
   ],
   "source": [
    "df"
   ]
  },
  {
   "cell_type": "code",
   "execution_count": 37,
   "metadata": {},
   "outputs": [],
   "source": [
    "#  remove rows with nan\n",
    "df = df.dropna()"
   ]
  },
  {
   "cell_type": "code",
   "execution_count": 38,
   "metadata": {},
   "outputs": [
    {
     "data": {
      "text/html": [
       "<div>\n",
       "<style scoped>\n",
       "    .dataframe tbody tr th:only-of-type {\n",
       "        vertical-align: middle;\n",
       "    }\n",
       "\n",
       "    .dataframe tbody tr th {\n",
       "        vertical-align: top;\n",
       "    }\n",
       "\n",
       "    .dataframe thead th {\n",
       "        text-align: right;\n",
       "    }\n",
       "</style>\n",
       "<table border=\"1\" class=\"dataframe\">\n",
       "  <thead>\n",
       "    <tr style=\"text-align: right;\">\n",
       "      <th></th>\n",
       "      <th>query</th>\n",
       "      <th>queryid</th>\n",
       "      <th>oldid</th>\n",
       "      <th>bert_k30_c30_1</th>\n",
       "    </tr>\n",
       "  </thead>\n",
       "  <tbody>\n",
       "    <tr>\n",
       "      <th>0</th>\n",
       "      <td>internet email marketing definition</td>\n",
       "      <td>5655493461695504401</td>\n",
       "      <td>0</td>\n",
       "      <td>3-14-2-0</td>\n",
       "    </tr>\n",
       "    <tr>\n",
       "      <th>1</th>\n",
       "      <td>what is email marketing</td>\n",
       "      <td>5655493461695504401</td>\n",
       "      <td>0</td>\n",
       "      <td>3-14-2-0</td>\n",
       "    </tr>\n",
       "    <tr>\n",
       "      <th>2</th>\n",
       "      <td>what is meant by em marketing</td>\n",
       "      <td>5655493461695504401</td>\n",
       "      <td>0</td>\n",
       "      <td>3-14-2-0</td>\n",
       "    </tr>\n",
       "    <tr>\n",
       "      <th>3</th>\n",
       "      <td>what is the purpose of email marketing?</td>\n",
       "      <td>5655493461695504401</td>\n",
       "      <td>0</td>\n",
       "      <td>3-14-2-0</td>\n",
       "    </tr>\n",
       "    <tr>\n",
       "      <th>4</th>\n",
       "      <td>what is email marketing?</td>\n",
       "      <td>5655493461695504401</td>\n",
       "      <td>0</td>\n",
       "      <td>3-14-2-0</td>\n",
       "    </tr>\n",
       "    <tr>\n",
       "      <th>...</th>\n",
       "      <td>...</td>\n",
       "      <td>...</td>\n",
       "      <td>...</td>\n",
       "      <td>...</td>\n",
       "    </tr>\n",
       "    <tr>\n",
       "      <th>3122038</th>\n",
       "      <td>who have been the hosts of the price is right</td>\n",
       "      <td>-1413521544318030897</td>\n",
       "      <td>73064</td>\n",
       "      <td>24-22-4-3</td>\n",
       "    </tr>\n",
       "    <tr>\n",
       "      <th>3122039</th>\n",
       "      <td>who sang the song mama told me not to come</td>\n",
       "      <td>3779316254369130993</td>\n",
       "      <td>32552</td>\n",
       "      <td>14-28-10-3</td>\n",
       "    </tr>\n",
       "    <tr>\n",
       "      <th>3122040</th>\n",
       "      <td>who plays grey worm on game of thrones</td>\n",
       "      <td>6455931563852330492</td>\n",
       "      <td>99611</td>\n",
       "      <td>20-8-6-11</td>\n",
       "    </tr>\n",
       "    <tr>\n",
       "      <th>3122041</th>\n",
       "      <td>working principle of high pressure sodium vapo...</td>\n",
       "      <td>-7982911662792302578</td>\n",
       "      <td>37159</td>\n",
       "      <td>29-18-6-0</td>\n",
       "    </tr>\n",
       "    <tr>\n",
       "      <th>3122042</th>\n",
       "      <td>what is the latest red hat linux version</td>\n",
       "      <td>-6253518446509823267</td>\n",
       "      <td>108025</td>\n",
       "      <td>6-28-12-5</td>\n",
       "    </tr>\n",
       "  </tbody>\n",
       "</table>\n",
       "<p>3122037 rows × 4 columns</p>\n",
       "</div>"
      ],
      "text/plain": [
       "                                                     query  \\\n",
       "0                      internet email marketing definition   \n",
       "1                                  what is email marketing   \n",
       "2                            what is meant by em marketing   \n",
       "3                  what is the purpose of email marketing?   \n",
       "4                                 what is email marketing?   \n",
       "...                                                    ...   \n",
       "3122038      who have been the hosts of the price is right   \n",
       "3122039         who sang the song mama told me not to come   \n",
       "3122040             who plays grey worm on game of thrones   \n",
       "3122041  working principle of high pressure sodium vapo...   \n",
       "3122042           what is the latest red hat linux version   \n",
       "\n",
       "                     queryid   oldid bert_k30_c30_1  \n",
       "0        5655493461695504401       0       3-14-2-0  \n",
       "1        5655493461695504401       0       3-14-2-0  \n",
       "2        5655493461695504401       0       3-14-2-0  \n",
       "3        5655493461695504401       0       3-14-2-0  \n",
       "4        5655493461695504401       0       3-14-2-0  \n",
       "...                      ...     ...            ...  \n",
       "3122038 -1413521544318030897   73064      24-22-4-3  \n",
       "3122039  3779316254369130993   32552     14-28-10-3  \n",
       "3122040  6455931563852330492   99611      20-8-6-11  \n",
       "3122041 -7982911662792302578   37159      29-18-6-0  \n",
       "3122042 -6253518446509823267  108025      6-28-12-5  \n",
       "\n",
       "[3122037 rows x 4 columns]"
      ]
     },
     "execution_count": 38,
     "metadata": {},
     "output_type": "execute_result"
    }
   ],
   "source": [
    "df"
   ]
  },
  {
   "cell_type": "code",
   "execution_count": 12,
   "metadata": {},
   "outputs": [
    {
     "data": {
      "text/html": [
       "<div>\n",
       "<style scoped>\n",
       "    .dataframe tbody tr th:only-of-type {\n",
       "        vertical-align: middle;\n",
       "    }\n",
       "\n",
       "    .dataframe tbody tr th {\n",
       "        vertical-align: top;\n",
       "    }\n",
       "\n",
       "    .dataframe thead th {\n",
       "        text-align: right;\n",
       "    }\n",
       "</style>\n",
       "<table border=\"1\" class=\"dataframe\">\n",
       "  <thead>\n",
       "    <tr style=\"text-align: right;\">\n",
       "      <th></th>\n",
       "      <th>query</th>\n",
       "      <th>queryid</th>\n",
       "      <th>oldid</th>\n",
       "      <th>bert_k30_c30_1</th>\n",
       "    </tr>\n",
       "  </thead>\n",
       "  <tbody>\n",
       "    <tr>\n",
       "      <th>0</th>\n",
       "      <td>rent a list of email addresses from service co...</td>\n",
       "      <td>5655493461695504401</td>\n",
       "      <td>0</td>\n",
       "      <td>3-14-2-0</td>\n",
       "    </tr>\n",
       "    <tr>\n",
       "      <th>1</th>\n",
       "      <td>status emails , reorder emails , and email rec...</td>\n",
       "      <td>5655493461695504401</td>\n",
       "      <td>0</td>\n",
       "      <td>3-14-2-0</td>\n",
       "    </tr>\n",
       "    <tr>\n",
       "      <th>2</th>\n",
       "      <td>advertising , or permission marketing , is a m...</td>\n",
       "      <td>5655493461695504401</td>\n",
       "      <td>0</td>\n",
       "      <td>3-14-2-0</td>\n",
       "    </tr>\n",
       "    <tr>\n",
       "      <th>3</th>\n",
       "      <td>comparison to traditional advertising mail . A...</td>\n",
       "      <td>5655493461695504401</td>\n",
       "      <td>0</td>\n",
       "      <td>3-14-2-0</td>\n",
       "    </tr>\n",
       "    <tr>\n",
       "      <th>4</th>\n",
       "      <td>email subscribers who have opted in ( i.e. , c...</td>\n",
       "      <td>5655493461695504401</td>\n",
       "      <td>0</td>\n",
       "      <td>3-14-2-0</td>\n",
       "    </tr>\n",
       "    <tr>\n",
       "      <th>...</th>\n",
       "      <td>...</td>\n",
       "      <td>...</td>\n",
       "      <td>...</td>\n",
       "      <td>...</td>\n",
       "    </tr>\n",
       "    <tr>\n",
       "      <th>1168580</th>\n",
       "      <td>edit ) Sarbanes -- Oxley Section 302 : disclos...</td>\n",
       "      <td>-1834169292338717359</td>\n",
       "      <td>109738</td>\n",
       "      <td>6-26-1-16</td>\n",
       "    </tr>\n",
       "    <tr>\n",
       "      <th>1168581</th>\n",
       "      <td>Committee members were not truly independent o...</td>\n",
       "      <td>-1834169292338717359</td>\n",
       "      <td>109738</td>\n",
       "      <td>6-26-1-16</td>\n",
       "    </tr>\n",
       "    <tr>\n",
       "      <th>1168582</th>\n",
       "      <td>. ) Debates continued as of 2007 over the perc...</td>\n",
       "      <td>-1834169292338717359</td>\n",
       "      <td>109738</td>\n",
       "      <td>6-26-1-16</td>\n",
       "    </tr>\n",
       "    <tr>\n",
       "      <th>1168583</th>\n",
       "      <td>. About Wikipedia</td>\n",
       "      <td>-1834169292338717359</td>\n",
       "      <td>109738</td>\n",
       "      <td>6-26-1-16</td>\n",
       "    </tr>\n",
       "    <tr>\n",
       "      <th>1168584</th>\n",
       "      <td>Pursuant to Section 401 ( c ) of the Sarbanes ...</td>\n",
       "      <td>-1834169292338717359</td>\n",
       "      <td>109738</td>\n",
       "      <td>6-26-1-16</td>\n",
       "    </tr>\n",
       "  </tbody>\n",
       "</table>\n",
       "<p>1168585 rows × 4 columns</p>\n",
       "</div>"
      ],
      "text/plain": [
       "                                                     query  \\\n",
       "0        rent a list of email addresses from service co...   \n",
       "1        status emails , reorder emails , and email rec...   \n",
       "2        advertising , or permission marketing , is a m...   \n",
       "3        comparison to traditional advertising mail . A...   \n",
       "4        email subscribers who have opted in ( i.e. , c...   \n",
       "...                                                    ...   \n",
       "1168580  edit ) Sarbanes -- Oxley Section 302 : disclos...   \n",
       "1168581  Committee members were not truly independent o...   \n",
       "1168582  . ) Debates continued as of 2007 over the perc...   \n",
       "1168583                                  . About Wikipedia   \n",
       "1168584  Pursuant to Section 401 ( c ) of the Sarbanes ...   \n",
       "\n",
       "                     queryid   oldid bert_k30_c30_1  \n",
       "0        5655493461695504401       0       3-14-2-0  \n",
       "1        5655493461695504401       0       3-14-2-0  \n",
       "2        5655493461695504401       0       3-14-2-0  \n",
       "3        5655493461695504401       0       3-14-2-0  \n",
       "4        5655493461695504401       0       3-14-2-0  \n",
       "...                      ...     ...            ...  \n",
       "1168580 -1834169292338717359  109738      6-26-1-16  \n",
       "1168581 -1834169292338717359  109738      6-26-1-16  \n",
       "1168582 -1834169292338717359  109738      6-26-1-16  \n",
       "1168583 -1834169292338717359  109738      6-26-1-16  \n",
       "1168584 -1834169292338717359  109738      6-26-1-16  \n",
       "\n",
       "[1168585 rows x 4 columns]"
      ]
     },
     "execution_count": 12,
     "metadata": {},
     "output_type": "execute_result"
    }
   ],
   "source": [
    "df"
   ]
  },
  {
   "cell_type": "code",
   "execution_count": 39,
   "metadata": {},
   "outputs": [],
   "source": [
    "# remove the queryid column\n",
    "df = df.drop(columns=['queryid'])"
   ]
  },
  {
   "cell_type": "code",
   "execution_count": null,
   "metadata": {},
   "outputs": [
    {
     "name": "stdout",
     "output_type": "stream",
     "text": [
      "275273\n"
     ]
    }
   ],
   "source": [
    "# number of duplicates rows\n",
    "# print(df.duplicated().sum())"
   ]
  },
  {
   "cell_type": "code",
   "execution_count": 42,
   "metadata": {},
   "outputs": [],
   "source": [
    "# remove duplicates\n",
    "df = df.drop_duplicates()"
   ]
  },
  {
   "cell_type": "code",
   "execution_count": 43,
   "metadata": {},
   "outputs": [
    {
     "data": {
      "text/html": [
       "<div>\n",
       "<style scoped>\n",
       "    .dataframe tbody tr th:only-of-type {\n",
       "        vertical-align: middle;\n",
       "    }\n",
       "\n",
       "    .dataframe tbody tr th {\n",
       "        vertical-align: top;\n",
       "    }\n",
       "\n",
       "    .dataframe thead th {\n",
       "        text-align: right;\n",
       "    }\n",
       "</style>\n",
       "<table border=\"1\" class=\"dataframe\">\n",
       "  <thead>\n",
       "    <tr style=\"text-align: right;\">\n",
       "      <th></th>\n",
       "      <th>query</th>\n",
       "      <th>oldid</th>\n",
       "      <th>bert_k30_c30_1</th>\n",
       "    </tr>\n",
       "  </thead>\n",
       "  <tbody>\n",
       "    <tr>\n",
       "      <th>0</th>\n",
       "      <td>internet email marketing definition</td>\n",
       "      <td>0</td>\n",
       "      <td>3-14-2-0</td>\n",
       "    </tr>\n",
       "    <tr>\n",
       "      <th>1</th>\n",
       "      <td>what is email marketing</td>\n",
       "      <td>0</td>\n",
       "      <td>3-14-2-0</td>\n",
       "    </tr>\n",
       "    <tr>\n",
       "      <th>2</th>\n",
       "      <td>what is meant by em marketing</td>\n",
       "      <td>0</td>\n",
       "      <td>3-14-2-0</td>\n",
       "    </tr>\n",
       "    <tr>\n",
       "      <th>3</th>\n",
       "      <td>what is the purpose of email marketing?</td>\n",
       "      <td>0</td>\n",
       "      <td>3-14-2-0</td>\n",
       "    </tr>\n",
       "    <tr>\n",
       "      <th>4</th>\n",
       "      <td>what is email marketing?</td>\n",
       "      <td>0</td>\n",
       "      <td>3-14-2-0</td>\n",
       "    </tr>\n",
       "    <tr>\n",
       "      <th>...</th>\n",
       "      <td>...</td>\n",
       "      <td>...</td>\n",
       "      <td>...</td>\n",
       "    </tr>\n",
       "    <tr>\n",
       "      <th>3122038</th>\n",
       "      <td>who have been the hosts of the price is right</td>\n",
       "      <td>73064</td>\n",
       "      <td>24-22-4-3</td>\n",
       "    </tr>\n",
       "    <tr>\n",
       "      <th>3122039</th>\n",
       "      <td>who sang the song mama told me not to come</td>\n",
       "      <td>32552</td>\n",
       "      <td>14-28-10-3</td>\n",
       "    </tr>\n",
       "    <tr>\n",
       "      <th>3122040</th>\n",
       "      <td>who plays grey worm on game of thrones</td>\n",
       "      <td>99611</td>\n",
       "      <td>20-8-6-11</td>\n",
       "    </tr>\n",
       "    <tr>\n",
       "      <th>3122041</th>\n",
       "      <td>working principle of high pressure sodium vapo...</td>\n",
       "      <td>37159</td>\n",
       "      <td>29-18-6-0</td>\n",
       "    </tr>\n",
       "    <tr>\n",
       "      <th>3122042</th>\n",
       "      <td>what is the latest red hat linux version</td>\n",
       "      <td>108025</td>\n",
       "      <td>6-28-12-5</td>\n",
       "    </tr>\n",
       "  </tbody>\n",
       "</table>\n",
       "<p>2846764 rows × 3 columns</p>\n",
       "</div>"
      ],
      "text/plain": [
       "                                                     query   oldid  \\\n",
       "0                      internet email marketing definition       0   \n",
       "1                                  what is email marketing       0   \n",
       "2                            what is meant by em marketing       0   \n",
       "3                  what is the purpose of email marketing?       0   \n",
       "4                                 what is email marketing?       0   \n",
       "...                                                    ...     ...   \n",
       "3122038      who have been the hosts of the price is right   73064   \n",
       "3122039         who sang the song mama told me not to come   32552   \n",
       "3122040             who plays grey worm on game of thrones   99611   \n",
       "3122041  working principle of high pressure sodium vapo...   37159   \n",
       "3122042           what is the latest red hat linux version  108025   \n",
       "\n",
       "        bert_k30_c30_1  \n",
       "0             3-14-2-0  \n",
       "1             3-14-2-0  \n",
       "2             3-14-2-0  \n",
       "3             3-14-2-0  \n",
       "4             3-14-2-0  \n",
       "...                ...  \n",
       "3122038      24-22-4-3  \n",
       "3122039     14-28-10-3  \n",
       "3122040      20-8-6-11  \n",
       "3122041      29-18-6-0  \n",
       "3122042      6-28-12-5  \n",
       "\n",
       "[2846764 rows x 3 columns]"
      ]
     },
     "execution_count": 43,
     "metadata": {},
     "output_type": "execute_result"
    }
   ],
   "source": [
    "df"
   ]
  },
  {
   "cell_type": "code",
   "execution_count": 44,
   "metadata": {},
   "outputs": [
    {
     "data": {
      "text/html": [
       "<div>\n",
       "<style scoped>\n",
       "    .dataframe tbody tr th:only-of-type {\n",
       "        vertical-align: middle;\n",
       "    }\n",
       "\n",
       "    .dataframe tbody tr th {\n",
       "        vertical-align: top;\n",
       "    }\n",
       "\n",
       "    .dataframe thead th {\n",
       "        text-align: right;\n",
       "    }\n",
       "</style>\n",
       "<table border=\"1\" class=\"dataframe\">\n",
       "  <thead>\n",
       "    <tr style=\"text-align: right;\">\n",
       "      <th></th>\n",
       "      <th>query</th>\n",
       "      <th>queryid</th>\n",
       "      <th>oldid</th>\n",
       "      <th>bert_k30_c30_1</th>\n",
       "    </tr>\n",
       "  </thead>\n",
       "  <tbody>\n",
       "    <tr>\n",
       "      <th>0</th>\n",
       "      <td>what do the 3 dots mean in math</td>\n",
       "      <td>6915606477668963399</td>\n",
       "      <td>101579</td>\n",
       "      <td>24-17-16-13</td>\n",
       "    </tr>\n",
       "    <tr>\n",
       "      <th>1</th>\n",
       "      <td>when was the writ watch invented by who</td>\n",
       "      <td>-4505971823174084926</td>\n",
       "      <td>56156</td>\n",
       "      <td>17-6-17-1</td>\n",
       "    </tr>\n",
       "    <tr>\n",
       "      <th>2</th>\n",
       "      <td>who wrote the song photograph by ringo starr</td>\n",
       "      <td>-8366545547296627039</td>\n",
       "      <td>108026</td>\n",
       "      <td>14-25-2-16</td>\n",
       "    </tr>\n",
       "    <tr>\n",
       "      <th>3</th>\n",
       "      <td>who is playing the halftime show at super bowl...</td>\n",
       "      <td>-5004457603684974952</td>\n",
       "      <td>2114</td>\n",
       "      <td>1-27-13</td>\n",
       "    </tr>\n",
       "    <tr>\n",
       "      <th>4</th>\n",
       "      <td>star wars the clone wars anakin voice actor</td>\n",
       "      <td>8494342737238168262</td>\n",
       "      <td>108027</td>\n",
       "      <td>20-23-29-6</td>\n",
       "    </tr>\n",
       "    <tr>\n",
       "      <th>...</th>\n",
       "      <td>...</td>\n",
       "      <td>...</td>\n",
       "      <td>...</td>\n",
       "      <td>...</td>\n",
       "    </tr>\n",
       "    <tr>\n",
       "      <th>7825</th>\n",
       "      <td>original cast of natasha pierre and the great ...</td>\n",
       "      <td>8391452533341141122</td>\n",
       "      <td>28339</td>\n",
       "      <td>16-14-7-2</td>\n",
       "    </tr>\n",
       "    <tr>\n",
       "      <th>7826</th>\n",
       "      <td>which of the following is not a provision of t...</td>\n",
       "      <td>-1834169292338717359</td>\n",
       "      <td>109738</td>\n",
       "      <td>6-26-1-16</td>\n",
       "    </tr>\n",
       "    <tr>\n",
       "      <th>7827</th>\n",
       "      <td>define divergence of vector field explain its ...</td>\n",
       "      <td>3633447138060018130</td>\n",
       "      <td>43021</td>\n",
       "      <td>23-18-11-4</td>\n",
       "    </tr>\n",
       "    <tr>\n",
       "      <th>7828</th>\n",
       "      <td>which of the following factors is not affectin...</td>\n",
       "      <td>8453789254281810891</td>\n",
       "      <td>36157</td>\n",
       "      <td>23-1-14-1</td>\n",
       "    </tr>\n",
       "    <tr>\n",
       "      <th>7829</th>\n",
       "      <td>who sang smoke gets in your eyes first</td>\n",
       "      <td>1747539378277902434</td>\n",
       "      <td>54901</td>\n",
       "      <td>14-22-26-8</td>\n",
       "    </tr>\n",
       "  </tbody>\n",
       "</table>\n",
       "<p>7830 rows × 4 columns</p>\n",
       "</div>"
      ],
      "text/plain": [
       "                                                  query              queryid  \\\n",
       "0                       what do the 3 dots mean in math  6915606477668963399   \n",
       "1               when was the writ watch invented by who -4505971823174084926   \n",
       "2          who wrote the song photograph by ringo starr -8366545547296627039   \n",
       "3     who is playing the halftime show at super bowl... -5004457603684974952   \n",
       "4           star wars the clone wars anakin voice actor  8494342737238168262   \n",
       "...                                                 ...                  ...   \n",
       "7825  original cast of natasha pierre and the great ...  8391452533341141122   \n",
       "7826  which of the following is not a provision of t... -1834169292338717359   \n",
       "7827  define divergence of vector field explain its ...  3633447138060018130   \n",
       "7828  which of the following factors is not affectin...  8453789254281810891   \n",
       "7829             who sang smoke gets in your eyes first  1747539378277902434   \n",
       "\n",
       "       oldid bert_k30_c30_1  \n",
       "0     101579    24-17-16-13  \n",
       "1      56156      17-6-17-1  \n",
       "2     108026     14-25-2-16  \n",
       "3       2114        1-27-13  \n",
       "4     108027     20-23-29-6  \n",
       "...      ...            ...  \n",
       "7825   28339      16-14-7-2  \n",
       "7826  109738      6-26-1-16  \n",
       "7827   43021     23-18-11-4  \n",
       "7828   36157      23-1-14-1  \n",
       "7829   54901     14-22-26-8  \n",
       "\n",
       "[7830 rows x 4 columns]"
      ]
     },
     "execution_count": 44,
     "metadata": {},
     "output_type": "execute_result"
    }
   ],
   "source": [
    "df_val"
   ]
  },
  {
   "cell_type": "code",
   "execution_count": 17,
   "metadata": {},
   "outputs": [],
   "source": [
    "unique_bert_lst = list(df.bert_k30_c30_1.unique())"
   ]
  },
  {
   "cell_type": "code",
   "execution_count": 19,
   "metadata": {},
   "outputs": [],
   "source": [
    "unique_bert_lst = [[int(n) for n in s.split(\"-\")] for s in unique_bert_lst]"
   ]
  },
  {
   "cell_type": "code",
   "execution_count": 21,
   "metadata": {},
   "outputs": [],
   "source": [
    "ln_lst = [len(lst) for lst in unique_bert_lst]"
   ]
  },
  {
   "cell_type": "code",
   "execution_count": 22,
   "metadata": {},
   "outputs": [
    {
     "data": {
      "text/plain": [
       "(5, 2, 3.9290862865526384)"
      ]
     },
     "execution_count": 22,
     "metadata": {},
     "output_type": "execute_result"
    }
   ],
   "source": [
    "max(ln_lst), min(ln_lst), sum(ln_lst)/len(ln_lst)   "
   ]
  },
  {
   "cell_type": "code",
   "execution_count": 23,
   "metadata": {},
   "outputs": [],
   "source": [
    "max_lst = [max(lst) for lst in unique_bert_lst]"
   ]
  },
  {
   "cell_type": "code",
   "execution_count": 24,
   "metadata": {},
   "outputs": [
    {
     "data": {
      "text/plain": [
       "(29, 0, 21.140041370889108)"
      ]
     },
     "execution_count": 24,
     "metadata": {},
     "output_type": "execute_result"
    }
   ],
   "source": [
    "max(max_lst), min(max_lst), sum(max_lst)/len(max_lst)"
   ]
  },
  {
   "cell_type": "code",
   "execution_count": 5,
   "metadata": {},
   "outputs": [],
   "source": [
    "import torch\n",
    "\n",
    "rand_tensor = torch.rand(5, 5, 5)"
   ]
  },
  {
   "cell_type": "code",
   "execution_count": 7,
   "metadata": {},
   "outputs": [
    {
     "data": {
      "text/plain": [
       "[[[0.08121782541275024,\n",
       "   0.548448383808136,\n",
       "   0.2915217876434326,\n",
       "   0.6966837644577026,\n",
       "   0.17776131629943848],\n",
       "  [0.5942038297653198,\n",
       "   0.9404144883155823,\n",
       "   0.8920539617538452,\n",
       "   0.7237083911895752,\n",
       "   0.39673101902008057],\n",
       "  [0.5579320788383484,\n",
       "   0.3380911946296692,\n",
       "   0.0011336803436279297,\n",
       "   0.7063068151473999,\n",
       "   0.8964493870735168],\n",
       "  [0.01826298236846924,\n",
       "   0.8240851163864136,\n",
       "   0.6517670750617981,\n",
       "   0.8568078875541687,\n",
       "   0.31909847259521484],\n",
       "  [0.09420657157897949,\n",
       "   0.9560553431510925,\n",
       "   0.8512018322944641,\n",
       "   0.24569034576416016,\n",
       "   0.6348901987075806]],\n",
       " [[0.8493503332138062,\n",
       "   0.34780752658843994,\n",
       "   0.7140644192695618,\n",
       "   0.9128609299659729,\n",
       "   0.09367412328720093],\n",
       "  [0.5762491822242737,\n",
       "   0.29100942611694336,\n",
       "   0.8767727017402649,\n",
       "   0.9885680675506592,\n",
       "   0.1534445881843567],\n",
       "  [0.8246992826461792,\n",
       "   0.621497631072998,\n",
       "   0.8409630656242371,\n",
       "   0.3275359272956848,\n",
       "   0.5688059329986572],\n",
       "  [0.9647955298423767,\n",
       "   0.07063096761703491,\n",
       "   0.47533321380615234,\n",
       "   0.6752312183380127,\n",
       "   0.1051783561706543],\n",
       "  [0.8872414827346802,\n",
       "   0.38180142641067505,\n",
       "   0.8573437333106995,\n",
       "   0.5851048827171326,\n",
       "   0.5491746664047241]],\n",
       " [[0.6229414343833923,\n",
       "   0.5069037079811096,\n",
       "   0.5765463709831238,\n",
       "   0.7662210464477539,\n",
       "   0.6303883790969849],\n",
       "  [0.18912798166275024,\n",
       "   0.586431086063385,\n",
       "   0.7380788326263428,\n",
       "   0.3091006875038147,\n",
       "   0.30142486095428467],\n",
       "  [0.40639883279800415,\n",
       "   0.15046948194503784,\n",
       "   0.6613554954528809,\n",
       "   0.632117509841919,\n",
       "   0.9832713007926941],\n",
       "  [0.5430660843849182,\n",
       "   0.22272330522537231,\n",
       "   0.48622918128967285,\n",
       "   0.226803719997406,\n",
       "   0.012709617614746094],\n",
       "  [0.5160810351371765,\n",
       "   0.31361687183380127,\n",
       "   0.013380706310272217,\n",
       "   0.2611432671546936,\n",
       "   0.05711275339126587]],\n",
       " [[0.25543051958084106,\n",
       "   0.6296069025993347,\n",
       "   0.17310386896133423,\n",
       "   0.8062677979469299,\n",
       "   0.8706238269805908],\n",
       "  [0.8484649658203125,\n",
       "   0.8930407166481018,\n",
       "   0.04501223564147949,\n",
       "   0.044299542903900146,\n",
       "   0.7074728012084961],\n",
       "  [0.21806102991104126,\n",
       "   0.0020651817321777344,\n",
       "   0.9902264475822449,\n",
       "   0.4213273525238037,\n",
       "   0.48341846466064453],\n",
       "  [0.05153006315231323,\n",
       "   0.999123752117157,\n",
       "   0.4105680584907532,\n",
       "   0.9008058905601501,\n",
       "   0.46489417552948],\n",
       "  [0.27608633041381836,\n",
       "   0.9584242701530457,\n",
       "   0.24173539876937866,\n",
       "   0.9966712594032288,\n",
       "   0.196025550365448]],\n",
       " [[0.6239336729049683,\n",
       "   0.3811734914779663,\n",
       "   0.7774301171302795,\n",
       "   0.4472668170928955,\n",
       "   0.018301725387573242],\n",
       "  [0.7434667944908142,\n",
       "   0.8571650385856628,\n",
       "   0.3614119291305542,\n",
       "   0.4137176275253296,\n",
       "   0.058249831199645996],\n",
       "  [0.7252140641212463,\n",
       "   0.11608994007110596,\n",
       "   0.7387199997901917,\n",
       "   0.9003506302833557,\n",
       "   0.5166398882865906],\n",
       "  [0.06581825017929077,\n",
       "   0.4899188280105591,\n",
       "   0.628044605255127,\n",
       "   0.9669413566589355,\n",
       "   0.16825968027114868],\n",
       "  [0.7693156003952026,\n",
       "   0.2933109998703003,\n",
       "   0.8483613133430481,\n",
       "   0.4493856430053711,\n",
       "   0.24396073818206787]]]"
      ]
     },
     "execution_count": 7,
     "metadata": {},
     "output_type": "execute_result"
    }
   ],
   "source": [
    "rand_tensor.tolist()"
   ]
  },
  {
   "cell_type": "code",
   "execution_count": 1,
   "metadata": {},
   "outputs": [
    {
     "name": "stderr",
     "output_type": "stream",
     "text": [
      "You are using the default legacy behaviour of the <class 'transformers.models.t5.tokenization_t5.T5Tokenizer'>. This is expected, and simply means that the `legacy` (previous) behavior will be used so nothing changes for you. If you want to use the new behaviour, set `legacy=False`. This should only be set if you understand what it means, and thoroughly read the reason why this was added as explained in https://github.com/huggingface/transformers/pull/24565\n"
     ]
    },
    {
     "name": "stdout",
     "output_type": "stream",
     "text": [
      "Saving the tree\n",
      "Saving the doc_code\n",
      "Tree and doc_code saved\n"
     ]
    }
   ],
   "source": [
    "from utills_final import AutocompleteDataset\n",
    "from transformers import T5Tokenizer\n",
    "\n",
    "tokenizer = T5Tokenizer.from_pretrained('t5-base')\n",
    "\n",
    "train_dataset = AutocompleteDataset(tokenizer)"
   ]
  },
  {
   "cell_type": "code",
   "execution_count": 2,
   "metadata": {},
   "outputs": [
    {
     "data": {
      "text/plain": [
       "134"
      ]
     },
     "execution_count": 2,
     "metadata": {},
     "output_type": "execute_result"
    }
   ],
   "source": [
    "train_dataset.d_max"
   ]
  },
  {
   "cell_type": "code",
   "execution_count": 3,
   "metadata": {},
   "outputs": [],
   "source": [
    "lst = list(train_dataset.data[f\"bert_{train_dataset.pred_type}\"].unique())"
   ]
  },
  {
   "cell_type": "code",
   "execution_count": 4,
   "metadata": {},
   "outputs": [],
   "source": [
    "lst_2 = [[int(x) for x in n.split(\"-\")] for n in lst]"
   ]
  },
  {
   "cell_type": "code",
   "execution_count": 9,
   "metadata": {},
   "outputs": [
    {
     "data": {
      "text/plain": [
       "272"
      ]
     },
     "execution_count": 9,
     "metadata": {},
     "output_type": "execute_result"
    }
   ],
   "source": [
    "cnt = 0\n",
    "lst_lst = []\n",
    "for n in lst_2:\n",
    "    if len(n) > 4:\n",
    "        # print(n)\n",
    "        lst_lst.append(n[-1])\n",
    "        cnt += 1\n",
    "\n",
    "cnt"
   ]
  },
  {
   "cell_type": "code",
   "execution_count": 11,
   "metadata": {},
   "outputs": [
    {
     "data": {
      "text/plain": [
       "134"
      ]
     },
     "execution_count": 11,
     "metadata": {},
     "output_type": "execute_result"
    }
   ],
   "source": [
    "30*4 + 2 +12"
   ]
  },
  {
   "cell_type": "code",
   "execution_count": 10,
   "metadata": {},
   "outputs": [
    {
     "data": {
      "text/plain": [
       "12"
      ]
     },
     "execution_count": 10,
     "metadata": {},
     "output_type": "execute_result"
    }
   ],
   "source": [
    "max(lst_lst)"
   ]
  },
  {
   "cell_type": "code",
   "execution_count": 3,
   "metadata": {},
   "outputs": [
    {
     "data": {
      "text/plain": [
       "4.0"
      ]
     },
     "execution_count": 3,
     "metadata": {},
     "output_type": "execute_result"
    }
   ],
   "source": [
    "(122 - 2)/30"
   ]
  },
  {
   "cell_type": "code",
   "execution_count": null,
   "metadata": {},
   "outputs": [],
   "source": [
    "2-31, 32-61, 62-91, 92-121"
   ]
  },
  {
   "cell_type": "code",
   "execution_count": 1,
   "metadata": {},
   "outputs": [
    {
     "name": "stderr",
     "output_type": "stream",
     "text": [
      "T5ForConditionalGeneration has generative capabilities, as `prepare_inputs_for_generation` is explicitly overwritten. However, it doesn't directly inherit from `GenerationMixin`. From 👉v4.50👈 onwards, `PreTrainedModel` will NOT inherit from `GenerationMixin`, and this model will lose the ability to call `generate` and other related functions.\n",
      "  - If you're using `trust_remote_code=True`, you can get rid of this warning by loading the model with an auto class. See https://huggingface.co/docs/transformers/en/model_doc/auto#auto-classes\n",
      "  - If you are the owner of the model architecture code, please modify your model class such that it inherits from `GenerationMixin` (after `PreTrainedModel`, otherwise you'll get an exception).\n",
      "  - If you are not the owner of the model architecture class, please contact the model code owner to update it.\n"
     ]
    },
    {
     "name": "stdout",
     "output_type": "stream",
     "text": [
      "Linear(in_features=768, out_features=152, bias=False)\n",
      "post init\n",
      "Linear(in_features=768, out_features=152, bias=False)\n"
     ]
    },
    {
     "data": {
      "text/plain": [
       "<All keys matched successfully>"
      ]
     },
     "execution_count": 1,
     "metadata": {},
     "output_type": "execute_result"
    }
   ],
   "source": [
    "from genret import T5ForConditionalGeneration\n",
    "from transformers import AutoTokenizer, T5Config\n",
    "from torch.utils.data import Dataset, DataLoader\n",
    "from utills_final import AutocompleteDataset\n",
    "import torch\n",
    "\n",
    "tokenizer = AutoTokenizer.from_pretrained('t5-base')\n",
    "config = T5Config.from_pretrained('t5-base')\n",
    "\n",
    "config.decoder_vocab_size = 152\n",
    "config.custom = True\n",
    "\n",
    "model = T5ForConditionalGeneration(config)\n",
    "\n",
    "ckpt_path = \"t5-base_kmeans_1/epoch_2.pth\"\n",
    "ckpt = torch.load(ckpt_path)\n",
    "\n",
    "model.load_state_dict(ckpt['model_state_dict'])"
   ]
  },
  {
   "cell_type": "code",
   "execution_count": 2,
   "metadata": {},
   "outputs": [
    {
     "name": "stdout",
     "output_type": "stream",
     "text": [
      "Saving the tree\n",
      "Saving the doc_code\n",
      "Tree and doc_code saved\n",
      "Saving the tree\n",
      "Saving the doc_code\n",
      "Tree and doc_code saved\n"
     ]
    }
   ],
   "source": [
    "train_dataset = AutocompleteDataset(tokenizer)\n",
    "val_dataset = AutocompleteDataset(tokenizer, split='val', infer=True)\n",
    "\n"
   ]
  },
  {
   "cell_type": "code",
   "execution_count": 3,
   "metadata": {},
   "outputs": [],
   "source": [
    "val_dataloader = DataLoader(val_dataset, batch_size=50)"
   ]
  },
  {
   "cell_type": "code",
   "execution_count": 4,
   "metadata": {},
   "outputs": [
    {
     "data": {
      "text/plain": [
       "T5ForConditionalGeneration(\n",
       "  (shared): Embedding(32128, 768)\n",
       "  (decoder_embed): Embedding(152, 768)\n",
       "  (encoder): T5Stack(\n",
       "    (embed_tokens): Embedding(32128, 768)\n",
       "    (block): ModuleList(\n",
       "      (0): T5Block(\n",
       "        (layer): ModuleList(\n",
       "          (0): T5LayerSelfAttention(\n",
       "            (SelfAttention): T5Attention(\n",
       "              (q): Linear(in_features=768, out_features=768, bias=False)\n",
       "              (k): Linear(in_features=768, out_features=768, bias=False)\n",
       "              (v): Linear(in_features=768, out_features=768, bias=False)\n",
       "              (o): Linear(in_features=768, out_features=768, bias=False)\n",
       "              (relative_attention_bias): Embedding(32, 12)\n",
       "            )\n",
       "            (layer_norm): T5LayerNorm()\n",
       "            (dropout): Dropout(p=0.1, inplace=False)\n",
       "          )\n",
       "          (1): T5LayerFF(\n",
       "            (DenseReluDense): T5DenseActDense(\n",
       "              (wi): Linear(in_features=768, out_features=3072, bias=False)\n",
       "              (wo): Linear(in_features=3072, out_features=768, bias=False)\n",
       "              (dropout): Dropout(p=0.1, inplace=False)\n",
       "              (act): ReLU()\n",
       "            )\n",
       "            (layer_norm): T5LayerNorm()\n",
       "            (dropout): Dropout(p=0.1, inplace=False)\n",
       "          )\n",
       "        )\n",
       "      )\n",
       "      (1-11): 11 x T5Block(\n",
       "        (layer): ModuleList(\n",
       "          (0): T5LayerSelfAttention(\n",
       "            (SelfAttention): T5Attention(\n",
       "              (q): Linear(in_features=768, out_features=768, bias=False)\n",
       "              (k): Linear(in_features=768, out_features=768, bias=False)\n",
       "              (v): Linear(in_features=768, out_features=768, bias=False)\n",
       "              (o): Linear(in_features=768, out_features=768, bias=False)\n",
       "            )\n",
       "            (layer_norm): T5LayerNorm()\n",
       "            (dropout): Dropout(p=0.1, inplace=False)\n",
       "          )\n",
       "          (1): T5LayerFF(\n",
       "            (DenseReluDense): T5DenseActDense(\n",
       "              (wi): Linear(in_features=768, out_features=3072, bias=False)\n",
       "              (wo): Linear(in_features=3072, out_features=768, bias=False)\n",
       "              (dropout): Dropout(p=0.1, inplace=False)\n",
       "              (act): ReLU()\n",
       "            )\n",
       "            (layer_norm): T5LayerNorm()\n",
       "            (dropout): Dropout(p=0.1, inplace=False)\n",
       "          )\n",
       "        )\n",
       "      )\n",
       "    )\n",
       "    (final_layer_norm): T5LayerNorm()\n",
       "    (dropout): Dropout(p=0.1, inplace=False)\n",
       "  )\n",
       "  (decoder): T5Stack(\n",
       "    (embed_tokens): Embedding(152, 768)\n",
       "    (block): ModuleList(\n",
       "      (0): T5Block(\n",
       "        (layer): ModuleList(\n",
       "          (0): T5LayerSelfAttention(\n",
       "            (SelfAttention): T5Attention(\n",
       "              (q): Linear(in_features=768, out_features=768, bias=False)\n",
       "              (k): Linear(in_features=768, out_features=768, bias=False)\n",
       "              (v): Linear(in_features=768, out_features=768, bias=False)\n",
       "              (o): Linear(in_features=768, out_features=768, bias=False)\n",
       "              (relative_attention_bias): Embedding(32, 12)\n",
       "            )\n",
       "            (layer_norm): T5LayerNorm()\n",
       "            (dropout): Dropout(p=0.1, inplace=False)\n",
       "          )\n",
       "          (1): T5LayerCrossAttention(\n",
       "            (EncDecAttention): T5Attention(\n",
       "              (q): Linear(in_features=768, out_features=768, bias=False)\n",
       "              (k): Linear(in_features=768, out_features=768, bias=False)\n",
       "              (v): Linear(in_features=768, out_features=768, bias=False)\n",
       "              (o): Linear(in_features=768, out_features=768, bias=False)\n",
       "            )\n",
       "            (layer_norm): T5LayerNorm()\n",
       "            (dropout): Dropout(p=0.1, inplace=False)\n",
       "          )\n",
       "          (2): T5LayerFF(\n",
       "            (DenseReluDense): T5DenseActDense(\n",
       "              (wi): Linear(in_features=768, out_features=3072, bias=False)\n",
       "              (wo): Linear(in_features=3072, out_features=768, bias=False)\n",
       "              (dropout): Dropout(p=0.1, inplace=False)\n",
       "              (act): ReLU()\n",
       "            )\n",
       "            (layer_norm): T5LayerNorm()\n",
       "            (dropout): Dropout(p=0.1, inplace=False)\n",
       "          )\n",
       "        )\n",
       "      )\n",
       "      (1-11): 11 x T5Block(\n",
       "        (layer): ModuleList(\n",
       "          (0): T5LayerSelfAttention(\n",
       "            (SelfAttention): T5Attention(\n",
       "              (q): Linear(in_features=768, out_features=768, bias=False)\n",
       "              (k): Linear(in_features=768, out_features=768, bias=False)\n",
       "              (v): Linear(in_features=768, out_features=768, bias=False)\n",
       "              (o): Linear(in_features=768, out_features=768, bias=False)\n",
       "            )\n",
       "            (layer_norm): T5LayerNorm()\n",
       "            (dropout): Dropout(p=0.1, inplace=False)\n",
       "          )\n",
       "          (1): T5LayerCrossAttention(\n",
       "            (EncDecAttention): T5Attention(\n",
       "              (q): Linear(in_features=768, out_features=768, bias=False)\n",
       "              (k): Linear(in_features=768, out_features=768, bias=False)\n",
       "              (v): Linear(in_features=768, out_features=768, bias=False)\n",
       "              (o): Linear(in_features=768, out_features=768, bias=False)\n",
       "            )\n",
       "            (layer_norm): T5LayerNorm()\n",
       "            (dropout): Dropout(p=0.1, inplace=False)\n",
       "          )\n",
       "          (2): T5LayerFF(\n",
       "            (DenseReluDense): T5DenseActDense(\n",
       "              (wi): Linear(in_features=768, out_features=3072, bias=False)\n",
       "              (wo): Linear(in_features=3072, out_features=768, bias=False)\n",
       "              (dropout): Dropout(p=0.1, inplace=False)\n",
       "              (act): ReLU()\n",
       "            )\n",
       "            (layer_norm): T5LayerNorm()\n",
       "            (dropout): Dropout(p=0.1, inplace=False)\n",
       "          )\n",
       "        )\n",
       "      )\n",
       "    )\n",
       "    (final_layer_norm): T5LayerNorm()\n",
       "    (dropout): Dropout(p=0.1, inplace=False)\n",
       "  )\n",
       "  (lm_head): Linear(in_features=768, out_features=152, bias=False)\n",
       ")"
      ]
     },
     "execution_count": 4,
     "metadata": {},
     "output_type": "execute_result"
    }
   ],
   "source": [
    "device = torch.device(\"cuda:3\" if torch.cuda.is_available() else \"cpu\")\n",
    "\n",
    "model.to(device)"
   ]
  },
  {
   "cell_type": "code",
   "execution_count": 5,
   "metadata": {},
   "outputs": [
    {
     "name": "stdout",
     "output_type": "stream",
     "text": [
      "STARTING VALIDATION\n"
     ]
    },
    {
     "name": "stderr",
     "output_type": "stream",
     "text": [
      "  0%|          | 0/157 [00:00<?, ?it/s]/raid/kavin-intern-maunendra/anaconda3/envs/wow/lib/python3.10/site-packages/transformers/generation/utils.py:1220: UserWarning: Using the model-agnostic default `max_length` (=20) to control the generation length. We recommend setting `max_new_tokens` to control the maximum length of the generation.\n",
      "  warnings.warn(\n",
      "100%|██████████| 157/157 [32:17<00:00, 12.34s/it]\n"
     ]
    }
   ],
   "source": [
    "import tqdm\n",
    "\n",
    "model.eval()\n",
    "pred_lst = []\n",
    "qid_lst = []\n",
    "trg_lst = []\n",
    "print(\"STARTING VALIDATION\")\n",
    "\n",
    "with torch.no_grad():\n",
    "    for batch in tqdm.tqdm(val_dataloader):\n",
    "        inputs, targets, qid = batch\n",
    "        # Prepare data\n",
    "        input_ids = inputs['input_ids'].squeeze(1).to(device)\n",
    "        attention_mask = inputs['attention_mask'].squeeze(1).to(device)\n",
    "        labels = targets.squeeze(1).to(device)\n",
    "\n",
    "        if hasattr(model, \"module\"):\n",
    "            outputs = model.module.generate(input_ids=input_ids,\n",
    "                                    attention_mask=attention_mask,\n",
    "                                    num_beams=100,\n",
    "                                    num_return_sequences=100,\n",
    "                                    prefix_allowed_tokens_fn = lambda batch_id, input_ids: train_dataset.sub_get(input_ids.tolist())\n",
    "                                    )\n",
    "        else:\n",
    "            outputs = model.generate(input_ids=input_ids, \n",
    "                                    attention_mask=attention_mask,\n",
    "                                    num_beams=100,\n",
    "                                    num_return_sequences=100,\n",
    "                                    prefix_allowed_tokens_fn = lambda batch_id, input_ids: train_dataset.sub_get(input_ids.tolist())\n",
    "                                    )\n",
    "        outputs = outputs[:, 1:]\n",
    "\n",
    "        if labels.shape[1] > outputs.shape[1]:\n",
    "            # extend outputs with pad tokens\n",
    "            pad = torch.full((outputs.shape[0], labels.shape[1] - outputs.shape[1]), tokenizer.pad_token_id, dtype=torch.long).to(device)\n",
    "            outputs = torch.cat((outputs, pad), dim=1)\n",
    "        elif labels.shape[1] < outputs.shape[1]:\n",
    "            pad = torch.full((labels.shape[0], outputs.shape[1] - labels.shape[1]), tokenizer.pad_token_id, dtype=torch.long).to(device)\n",
    "            labels = torch.cat((labels, pad), dim=1)\n",
    "\n",
    "        # outputs = outputs[:, 1:]\n",
    "\n",
    "        outputs = outputs.view(-1, 100, outputs.shape[1])\n",
    "\n",
    "        labels[labels == -100] = tokenizer.pad_token_id\n",
    "        \n",
    "        pred_lst += outputs.tolist()\n",
    "        qid_lst += list(qid)\n",
    "        trg_lst += labels.tolist()\n",
    "\n",
    "        # print(pred_lst)\n",
    "\n",
    "    # trg_lst = [train_dataset.code_doc[str(i)] for i in trg_lst]\n",
    "    # pred_lst = [[train_dataset.code_doc[str(i)] for i in beam] for beam in pred_lst]\n",
    "    \n",
    "    # pred_dct = prepare_pred(pred_lst, qid_lst)\n",
    "    # gt_dct = prepare_gt(trg_lst, qid_lst)\n",
    "\n",
    "    # recal_dct = {}\n",
    "    # metric_dct = {}\n",
    "    # for k in [1, 5, 10, 50, 100]:\n",
    "    #     recal_dct[k] = recal_at_k(pred_dct, gt_dct, k)\n",
    "    #     metric_dct[f\"eval/recall@{k}\"] = recal_dct[k]\n",
    "    \n",
    "    # mrr_score = mrr(pred_dct, gt_dct)\n",
    "    # metric_dct[\"eval/mrr\"] = mrr_score"
   ]
  },
  {
   "cell_type": "code",
   "execution_count": 6,
   "metadata": {},
   "outputs": [],
   "source": [
    "def prepare_pred(pred, qid, dps):\n",
    "    # pred B x Beams x L (list)\n",
    "    # qid B x 1 (list)\n",
    "    dct = {}\n",
    "    for eg, id in zip(pred, qid):\n",
    "        if id not in dct:\n",
    "            dct[id] = []\n",
    "        \n",
    "        for beam in eg:\n",
    "            #  make sure seq len is 6\n",
    "            if len(beam) < 6:\n",
    "                new_beam = beam + [0] * (6 - len(beam))\n",
    "                print(\"bi\")\n",
    "            elif len(beam) > 6:\n",
    "                new_beam = beam[:6]\n",
    "                print(\"bi2\")\n",
    "            else:\n",
    "                new_beam = beam\n",
    "\n",
    "            dct[id].append(dps[str(new_beam)])\n",
    "    return dct\n",
    "\n",
    "def prepare_gt(gt, qid, dps):\n",
    "    # gt B x L (list)\n",
    "    # qid B x 1 (list)\n",
    "    dct = {}\n",
    "    for eg, id in zip(gt, qid):\n",
    "        if id not in dct:\n",
    "            dct[id] = []\n",
    "\n",
    "        # make sure seq len is 6\n",
    "        if len(eg) < 6:\n",
    "            new_eg = eg + [0] * (6 - len(eg))\n",
    "            print(\"hi\")\n",
    "        elif len(eg) > 6:\n",
    "            new_eg = eg[:6]\n",
    "            print(\"hi2\")\n",
    "        else:\n",
    "            new_eg = eg\n",
    "\n",
    "        dct[id].append(dps[str(new_eg)])\n",
    "    \n",
    "    return dct\n",
    "\n",
    "def recal_at_k(pred_dct, gt_dct, k):\n",
    "    # pred_dct: qid -> list of beams\n",
    "    # gt_dct: qid -> list of beams\n",
    "    total = 0\n",
    "    correct = 0\n",
    "    for qid in pred_dct:\n",
    "        pred = pred_dct[qid][:k]\n",
    "        gt = gt_dct[qid]\n",
    "        for cand in pred:\n",
    "            # print(f\"candid: {cand}, gt: {gt}\")\n",
    "            if cand == gt[0]:\n",
    "                correct += 1\n",
    "                break\n",
    "        total += 1\n",
    "    return correct / total\n",
    "\n",
    "def mrr(pred_dct, gt_dct):\n",
    "    # pred_dct: qid -> list of beams\n",
    "    # gt_dct: qid -> list of beams\n",
    "    total = 0\n",
    "    score = 0\n",
    "    for qid in pred_dct:\n",
    "        pred = pred_dct[qid]\n",
    "        gt = gt_dct[qid]\n",
    "        for i, cand in enumerate(pred):\n",
    "            if cand in gt:\n",
    "                score += 1/(i+1)\n",
    "        total += 1\n",
    "    return score / total"
   ]
  },
  {
   "cell_type": "code",
   "execution_count": 7,
   "metadata": {},
   "outputs": [],
   "source": [
    "p_lst = [p[0] for p in pred_lst]\n",
    "\n",
    "res_lst = [p == t for p, t in zip(p_lst, trg_lst)]"
   ]
  },
  {
   "cell_type": "code",
   "execution_count": 8,
   "metadata": {},
   "outputs": [
    {
     "data": {
      "text/plain": [
       "0.2597701149425287"
      ]
     },
     "execution_count": 8,
     "metadata": {},
     "output_type": "execute_result"
    }
   ],
   "source": [
    "sum(res_lst)/len(res_lst)"
   ]
  },
  {
   "cell_type": "code",
   "execution_count": 9,
   "metadata": {},
   "outputs": [],
   "source": [
    "pred_dct = prepare_pred(pred_lst, qid_lst, train_dataset.code_doc)\n",
    "gt_dct = prepare_gt(trg_lst, qid_lst, train_dataset.code_doc)\n",
    "\n",
    "recal_dct = {}\n",
    "metric_dct = {}\n",
    "for k in [1, 5, 10, 50, 100]:\n",
    "    recal_dct[k] = recal_at_k(pred_dct, gt_dct, k)\n",
    "    metric_dct[f\"eval/recall@{k}\"] = recal_dct[k]\n",
    "\n",
    "mrr_score = mrr(pred_dct, gt_dct)\n",
    "metric_dct[\"eval/mrr\"] = mrr_score"
   ]
  },
  {
   "cell_type": "code",
   "execution_count": 10,
   "metadata": {},
   "outputs": [
    {
     "data": {
      "text/plain": [
       "{'eval/recall@1': 0.2597701149425287,\n",
       " 'eval/recall@5': 0.45849297573435505,\n",
       " 'eval/recall@10': 0.5348659003831417,\n",
       " 'eval/recall@50': 0.6924648786717752,\n",
       " 'eval/recall@100': 0.7475095785440613,\n",
       " 'eval/mrr': 0.3520194766841433}"
      ]
     },
     "execution_count": 10,
     "metadata": {},
     "output_type": "execute_result"
    }
   ],
   "source": [
    "metric_dct"
   ]
  },
  {
   "cell_type": "code",
   "execution_count": null,
   "metadata": {},
   "outputs": [],
   "source": [
    "{'eval/recall@1': 0.25734355044699875,\n",
    " 'eval/recall@5': 0.44648786717752237,\n",
    " 'eval/recall@10': 0.44648786717752237,\n",
    " 'eval/recall@50': 0.44648786717752237,\n",
    " 'eval/recall@100': 0.44648786717752237,\n",
    " 'eval/mrr': 0.32798212005108585}\n",
    "\n",
    "{'eval/recall@1': 0.2409961685823755,\n",
    " 'eval/recall@5': 0.3061302681992337,\n",
    " 'eval/recall@10': 0.3061302681992337,\n",
    " 'eval/recall@50': 0.3061302681992337,\n",
    " 'eval/recall@100': 0.3061302681992337,\n",
    " 'eval/mrr': 0.2735632183908046}"
   ]
  },
  {
   "cell_type": "code",
   "execution_count": 18,
   "metadata": {},
   "outputs": [
    {
     "data": {
      "text/plain": [
       "10"
      ]
     },
     "execution_count": 18,
     "metadata": {},
     "output_type": "execute_result"
    }
   ],
   "source": [
    "len(pred_lst[0])"
   ]
  },
  {
   "cell_type": "code",
   "execution_count": 19,
   "metadata": {},
   "outputs": [
    {
     "data": {
      "text/plain": [
       "[[26, 49, 78, 95, 1, 0],\n",
       " [12, 32, 79, 93, 1, 0],\n",
       " [25, 49, 74, 95, 1, 0],\n",
       " [12, 32, 79, 92, 1, 0],\n",
       " [25, 49, 74, 93, 1, 0],\n",
       " [26, 49, 78, 94, 1, 0],\n",
       " [25, 49, 74, 92, 1, 0],\n",
       " [25, 49, 63, 95, 1, 0],\n",
       " [26, 49, 78, 92, 1, 0],\n",
       " [25, 49, 74, 94, 1, 0]]"
      ]
     },
     "execution_count": 19,
     "metadata": {},
     "output_type": "execute_result"
    }
   ],
   "source": [
    "pred_lst[0]"
   ]
  },
  {
   "cell_type": "code",
   "execution_count": 12,
   "metadata": {},
   "outputs": [
    {
     "data": {
      "text/plain": [
       "[[26, 49, 78, 105, 1, 0],\n",
       " [19, 38, 79, 93, 1, 0],\n",
       " [16, 57, 64, 108, 1, 0],\n",
       " [3, 59, 75, 1, 0, 0],\n",
       " [22, 55, 91, 98, 1, 0],\n",
       " [16, 45, 81, 92, 1, 0],\n",
       " [24, 54, 84, 93, 1, 0],\n",
       " [18, 44, 91, 101, 1, 0],\n",
       " [18, 44, 78, 94, 1, 0],\n",
       " [24, 50, 66, 92, 1, 0],\n",
       " [5, 56, 69, 92, 1, 0],\n",
       " [28, 42, 90, 95, 1, 0],\n",
       " [8, 42, 69, 108, 1, 0],\n",
       " [30, 41, 66, 1, 0, 0],\n",
       " [19, 35, 85, 99, 1, 0],\n",
       " [7, 53, 76, 97, 1, 0],\n",
       " [10, 32, 86, 1, 0, 0],\n",
       " [9, 35, 64, 101, 1, 0],\n",
       " [19, 32, 82, 100, 1, 0],\n",
       " [26, 33, 72, 93, 1, 0],\n",
       " [8, 58, 71, 96, 1, 0],\n",
       " [13, 52, 74, 92, 1, 0],\n",
       " [30, 35, 89, 92, 1, 0],\n",
       " [14, 50, 69, 93, 1, 0],\n",
       " [16, 47, 84, 93, 1, 0],\n",
       " [5, 37, 84, 94, 1, 0],\n",
       " [11, 42, 71, 96, 1, 0],\n",
       " [11, 34, 66, 93, 1, 0],\n",
       " [6, 55, 74, 92, 1, 0],\n",
       " [11, 53, 77, 92, 1, 0],\n",
       " [18, 34, 68, 96, 1, 0],\n",
       " [29, 37, 90, 96, 1, 0]]"
      ]
     },
     "execution_count": 12,
     "metadata": {},
     "output_type": "execute_result"
    }
   ],
   "source": [
    "trg_lst"
   ]
  },
  {
   "cell_type": "code",
   "execution_count": 11,
   "metadata": {},
   "outputs": [
    {
     "data": {
      "text/plain": [
       "[[49, 78, 95, 1, 0],\n",
       " [32, 79, 93, 1, 0],\n",
       " [49, 74, 95, 1, 0],\n",
       " [32, 79, 92, 1, 0],\n",
       " [49, 74, 93, 1, 0],\n",
       " [49, 78, 94, 1, 0],\n",
       " [49, 74, 92, 1, 0],\n",
       " [49, 63, 95, 1, 0],\n",
       " [49, 78, 92, 1, 0],\n",
       " [49, 74, 94, 1, 0]]"
      ]
     },
     "execution_count": 11,
     "metadata": {},
     "output_type": "execute_result"
    }
   ],
   "source": [
    "pred_lst[0]"
   ]
  },
  {
   "cell_type": "code",
   "execution_count": 1,
   "metadata": {},
   "outputs": [
    {
     "data": {
      "text/plain": [
       "tensor([[[0.0223, 0.9855, 0.6074, 0.3230, 0.5782],\n",
       "         [0.0318, 0.0090, 0.8735, 0.0375, 0.5521],\n",
       "         [0.4762, 0.5018, 0.8461, 0.4743, 0.2513],\n",
       "         [0.4172, 0.8119, 0.9179, 0.8308, 0.9694],\n",
       "         [0.7497, 0.0969, 0.6612, 0.0837, 0.0414]],\n",
       "\n",
       "        [[0.2843, 0.7538, 0.7828, 0.2306, 0.2120],\n",
       "         [0.0498, 0.4700, 0.1058, 0.6334, 0.2183],\n",
       "         [0.8574, 0.6747, 0.6488, 0.6249, 0.7255],\n",
       "         [0.3645, 0.8215, 0.0204, 0.8821, 0.6453],\n",
       "         [0.4464, 0.7756, 0.7146, 0.0091, 0.3280]],\n",
       "\n",
       "        [[0.4447, 0.5996, 0.6334, 0.8040, 0.5439],\n",
       "         [0.1948, 0.9019, 0.7913, 0.1307, 0.3795],\n",
       "         [0.4356, 0.4858, 0.5356, 0.8531, 0.6621],\n",
       "         [0.8241, 0.7884, 0.2775, 0.0155, 0.4695],\n",
       "         [0.0543, 0.6385, 0.5582, 0.6895, 0.3228]],\n",
       "\n",
       "        [[0.1751, 0.2733, 0.7190, 0.3477, 0.8326],\n",
       "         [0.2099, 0.5354, 0.5768, 0.1163, 0.6427],\n",
       "         [0.1169, 0.4322, 0.2092, 0.2197, 0.6222],\n",
       "         [0.4742, 0.4160, 0.3947, 0.5375, 0.2579],\n",
       "         [0.5896, 0.4191, 0.5051, 0.8947, 0.0224]],\n",
       "\n",
       "        [[0.7671, 0.9521, 0.6733, 0.0695, 0.4442],\n",
       "         [0.6607, 0.7357, 0.8334, 0.7742, 0.9827],\n",
       "         [0.2402, 0.8780, 0.1551, 0.8531, 0.2302],\n",
       "         [0.0067, 0.2971, 0.9477, 0.2477, 0.0446],\n",
       "         [0.7313, 0.9967, 0.4029, 0.0737, 0.6867]]])"
      ]
     },
     "execution_count": 1,
     "metadata": {},
     "output_type": "execute_result"
    }
   ],
   "source": [
    "import torch\n",
    "\n",
    "rand_tensor = torch.rand(5, 5, 5)\n",
    "rand_tensor"
   ]
  },
  {
   "cell_type": "code",
   "execution_count": 3,
   "metadata": {},
   "outputs": [
    {
     "data": {
      "text/plain": [
       "tensor([[[0.0022, 0.0986, 0.0607, 0.0323, 0.0578],\n",
       "         [0.0032, 0.0009, 0.0874, 0.0038, 0.0552],\n",
       "         [0.0476, 0.0502, 0.0846, 0.0474, 0.0251],\n",
       "         [0.0417, 0.0812, 0.0918, 0.0831, 0.0969],\n",
       "         [0.0750, 0.0097, 0.0661, 0.0084, 0.0041]],\n",
       "\n",
       "        [[0.0284, 0.0754, 0.0783, 0.0231, 0.0212],\n",
       "         [0.0050, 0.0470, 0.0106, 0.0633, 0.0218],\n",
       "         [0.0857, 0.0675, 0.0649, 0.0625, 0.0726],\n",
       "         [0.0365, 0.0822, 0.0020, 0.0882, 0.0645],\n",
       "         [0.0446, 0.0776, 0.0715, 0.0009, 0.0328]],\n",
       "\n",
       "        [[0.0445, 0.0600, 0.0633, 0.0804, 0.0544],\n",
       "         [0.0195, 0.0902, 0.0791, 0.0131, 0.0380],\n",
       "         [0.0436, 0.0486, 0.0536, 0.0853, 0.0662],\n",
       "         [0.0824, 0.0788, 0.0277, 0.0016, 0.0469],\n",
       "         [0.0054, 0.0638, 0.0558, 0.0689, 0.0323]],\n",
       "\n",
       "        [[0.0175, 0.0273, 0.0719, 0.0348, 0.0833],\n",
       "         [0.0210, 0.0535, 0.0577, 0.0116, 0.0643],\n",
       "         [0.0117, 0.0432, 0.0209, 0.0220, 0.0622],\n",
       "         [0.0474, 0.0416, 0.0395, 0.0538, 0.0258],\n",
       "         [0.0590, 0.0419, 0.0505, 0.0895, 0.0022]],\n",
       "\n",
       "        [[0.0767, 0.0952, 0.0673, 0.0070, 0.0444],\n",
       "         [0.0661, 0.0736, 0.0833, 0.0774, 0.0983],\n",
       "         [0.0240, 0.0878, 0.0155, 0.0853, 0.0230],\n",
       "         [0.0007, 0.0297, 0.0948, 0.0248, 0.0045],\n",
       "         [0.0731, 0.0997, 0.0403, 0.0074, 0.0687]]])"
      ]
     },
     "execution_count": 3,
     "metadata": {},
     "output_type": "execute_result"
    }
   ],
   "source": [
    "rand_tensor/10"
   ]
  },
  {
   "cell_type": "code",
   "execution_count": 4,
   "metadata": {},
   "outputs": [
    {
     "name": "stderr",
     "output_type": "stream",
     "text": [
      "You are using the default legacy behaviour of the <class 'transformers.models.t5.tokenization_t5.T5Tokenizer'>. This is expected, and simply means that the `legacy` (previous) behavior will be used so nothing changes for you. If you want to use the new behaviour, set `legacy=False`. This should only be set if you understand what it means, and thoroughly read the reason why this was added as explained in https://github.com/huggingface/transformers/pull/24565\n"
     ]
    }
   ],
   "source": [
    "from transformers import T5Tokenizer\n",
    "\n",
    "tokenizer = T5Tokenizer.from_pretrained('t5-base')\n",
    "\n",
    "sents = [\"hello\", \"world\", \"how\", \"are\", \"you\"]\n",
    "\n",
    "tkn_lst = [tokenizer(s)[\"input_ids\"] for s in sents]"
   ]
  },
  {
   "cell_type": "code",
   "execution_count": 5,
   "metadata": {},
   "outputs": [
    {
     "data": {
      "text/plain": [
       "[[21820, 1], [296, 1], [149, 1], [33, 1], [25, 1]]"
      ]
     },
     "execution_count": 5,
     "metadata": {},
     "output_type": "execute_result"
    }
   ],
   "source": [
    "tkn_lst"
   ]
  },
  {
   "cell_type": "code",
   "execution_count": null,
   "metadata": {},
   "outputs": [],
   "source": []
  }
 ],
 "metadata": {
  "kernelspec": {
   "display_name": "wow",
   "language": "python",
   "name": "python3"
  },
  "language_info": {
   "codemirror_mode": {
    "name": "ipython",
    "version": 3
   },
   "file_extension": ".py",
   "mimetype": "text/x-python",
   "name": "python",
   "nbconvert_exporter": "python",
   "pygments_lexer": "ipython3",
   "version": "3.10.13"
  }
 },
 "nbformat": 4,
 "nbformat_minor": 2
}
